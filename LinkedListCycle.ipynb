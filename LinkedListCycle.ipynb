{
  "nbformat": 4,
  "nbformat_minor": 0,
  "metadata": {
    "colab": {
      "provenance": [],
      "collapsed_sections": []
    },
    "kernelspec": {
      "name": "python3",
      "display_name": "Python 3"
    },
    "language_info": {
      "name": "python"
    }
  },
  "cells": [
    {
      "cell_type": "code",
      "source": [
        "class Solution:\n",
        "    def  hasCycle(self, head: Optional[ListNode]) -> bool:\n",
        "        slow, fast = head, head\n",
        "        \n",
        "        while fast and fast.next:\n",
        "            slow = slow.next\n",
        "            fast = fast.next.next\n",
        "            if slow == fast:\n",
        "                return True\n",
        "        return False"
      ],
      "metadata": {
        "id": "Rgsq7-Ub-R6G"
      },
      "execution_count": null,
      "outputs": []
    }
  ]
}