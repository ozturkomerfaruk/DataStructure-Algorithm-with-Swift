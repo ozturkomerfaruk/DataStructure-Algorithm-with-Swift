{
  "nbformat": 4,
  "nbformat_minor": 0,
  "metadata": {
    "colab": {
      "provenance": [],
      "collapsed_sections": []
    },
    "kernelspec": {
      "name": "python3",
      "display_name": "Python 3"
    },
    "language_info": {
      "name": "python"
    }
  },
  "cells": [
    {
      "cell_type": "code",
      "source": [
        "# Definition for singly-linked list.\n",
        "# class ListNode:\n",
        "#     def __init__(self, val=0, next=None):\n",
        "#         self.val = val\n",
        "#         self.next = next\n",
        "class Solution:\n",
        "    def removeElements(self, head: Optional[ListNode], val: int) -> Optional[ListNode]:\n",
        "        \n",
        "        dummy = ListNode(0)\n",
        "        dummy.next = head\n",
        "        \n",
        "        prevPointer = dummy\n",
        "        pointer = head\n",
        "        \n",
        "        while pointer:\n",
        "            if pointer.val == val:\n",
        "                prevPointer.next = pointer.next\n",
        "            else:\n",
        "                prevPointer = pointer\n",
        "            pointer = pointer.next\n",
        "            \n",
        "        return dummy.next"
      ],
      "metadata": {
        "id": "Rgsq7-Ub-R6G"
      },
      "execution_count": null,
      "outputs": []
    },
    {
      "cell_type": "code",
      "source": [],
      "metadata": {
        "id": "doX4p8d91h9v"
      },
      "execution_count": null,
      "outputs": []
    }
  ]
}