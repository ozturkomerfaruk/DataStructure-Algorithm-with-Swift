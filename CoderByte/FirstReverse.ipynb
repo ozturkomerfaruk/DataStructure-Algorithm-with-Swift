{
  "nbformat": 4,
  "nbformat_minor": 0,
  "metadata": {
    "colab": {
      "name": "CoderByte.ipynb",
      "provenance": [],
      "collapsed_sections": []
    },
    "kernelspec": {
      "name": "python3",
      "display_name": "Python 3"
    },
    "language_info": {
      "name": "python"
    }
  },
  "cells": [
    {
      "cell_type": "code",
      "execution_count": null,
      "metadata": {
        "colab": {
          "base_uri": "https://localhost:8080/"
        },
        "id": "lyqX262cMtz2",
        "outputId": "d730b521-bfe0-498e-9957-c9557984ab86"
      },
      "outputs": [
        {
          "output_type": "stream",
          "name": "stdout",
          "text": [
            "omer\n",
            "remo\n"
          ]
        }
      ],
      "source": [
        "def FirstReverse(strParam):\n",
        "\n",
        "  str = \"\"\n",
        "  for i in strParam:\n",
        "    str = i + str\n",
        "\n",
        "  strParam = str;\n",
        "\n",
        "  return strParam\n",
        "\n",
        "# keep this function call here \n",
        "print(FirstReverse(input()))"
      ]
    }
  ]
}