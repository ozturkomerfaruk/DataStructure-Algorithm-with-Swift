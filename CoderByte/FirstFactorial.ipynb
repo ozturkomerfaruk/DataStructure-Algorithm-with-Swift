{
  "nbformat": 4,
  "nbformat_minor": 0,
  "metadata": {
    "colab": {
      "name": "CoderByte.ipynb",
      "provenance": [],
      "collapsed_sections": []
    },
    "kernelspec": {
      "name": "python3",
      "display_name": "Python 3"
    },
    "language_info": {
      "name": "python"
    }
  },
  "cells": [
    {
      "cell_type": "code",
      "execution_count": 22,
      "metadata": {
        "colab": {
          "base_uri": "https://localhost:8080/"
        },
        "id": "lyqX262cMtz2",
        "outputId": "dd84372f-4a99-477c-c258-9a8bab8949e3"
      },
      "outputs": [
        {
          "output_type": "stream",
          "name": "stdout",
          "text": [
            "5\n",
            "120\n"
          ]
        }
      ],
      "source": [
        "def FirstFactorial(num):\n",
        "\n",
        "  intNum = int(num)\n",
        "\n",
        "  if (intNum == 1):\n",
        "    return intNum\n",
        "  else:\n",
        "    return intNum * FirstFactorial(intNum-1)\n",
        "\n",
        "# keep this function call here \n",
        "print(FirstFactorial(input()))"
      ]
    }
  ]
}