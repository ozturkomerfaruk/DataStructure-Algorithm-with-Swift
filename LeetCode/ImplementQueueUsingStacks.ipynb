{
  "nbformat": 4,
  "nbformat_minor": 0,
  "metadata": {
    "colab": {
      "provenance": []
    },
    "kernelspec": {
      "name": "python3",
      "display_name": "Python 3"
    },
    "language_info": {
      "name": "python"
    }
  },
  "cells": [
    {
      "cell_type": "code",
      "source": [
        "class MyQueue:\n",
        "\n",
        "    def __init__(self):\n",
        "        self.myStack = deque()\n",
        "\n",
        "    def push(self, x: int) -> None:\n",
        "        self.myStack.append(x)\n",
        "\n",
        "    def pop(self) -> int:\n",
        "        for i in range(len(self.myStack)-1):\n",
        "            self.myStack.append(self.myStack.pop())\n",
        "        return self.myStack.popleft()\n",
        "\n",
        "    def peek(self) -> int:\n",
        "        return self.myStack[0]\n",
        "\n",
        "    def empty(self) -> bool:\n",
        "        return len(self.myStack) == 0\n",
        "\n",
        "\n",
        "# Your MyQueue object will be instantiated and called as such:\n",
        "# obj = MyQueue()\n",
        "# obj.push(x)\n",
        "# param_2 = obj.pop()\n",
        "# param_3 = obj.peek()\n",
        "# param_4 = obj.empty()"
      ],
      "metadata": {
        "id": "ayZXcuaRDhdv"
      },
      "execution_count": 126,
      "outputs": []
    }
  ]
}