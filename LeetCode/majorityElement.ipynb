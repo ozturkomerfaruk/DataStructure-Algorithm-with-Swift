{
  "nbformat": 4,
  "nbformat_minor": 0,
  "metadata": {
    "colab": {
      "provenance": []
    },
    "kernelspec": {
      "name": "python3",
      "display_name": "Python 3"
    },
    "language_info": {
      "name": "python"
    }
  },
  "cells": [
    {
      "cell_type": "markdown",
      "source": [
        "Given an array nums of size n, return the majority element.\n",
        "The majority element is the element that appears more than ⌊n / 2⌋ times. You may assume that the majority element always exists in the array.\n",
        "\n",
        "Example 1:\n",
        "\n",
        "Input: nums = [3,2,3]\n",
        "\n",
        "Output: 3\n",
        "\n",
        "Example 2:\n",
        "\n",
        "\n",
        "Input: nums = [2,2,1,1,1,2,2]\n",
        "\n",
        "Output: 2"
      ],
      "metadata": {
        "id": "Wcx2RY4T6dmK"
      }
    },
    {
      "cell_type": "code",
      "source": [
        "myList = [3,1,1,3,3,1,1,1]"
      ],
      "metadata": {
        "id": "-5piygXqPKdg"
      },
      "execution_count": 16,
      "outputs": []
    },
    {
      "cell_type": "code",
      "execution_count": 17,
      "metadata": {
        "id": "jQ0hBUcn1RBC"
      },
      "outputs": [],
      "source": [
        "def findMajority():\n",
        "  count = {}\n",
        "  res, maxCount = 0, 0\n",
        "\n",
        "  for n in myList:\n",
        "    count[n] = 1 + count.get(n,0)\n",
        "    if count[n] > maxCount:\n",
        "      res = n\n",
        "    maxCount = max(count[n], maxCount)\n",
        "  return res\n",
        " "
      ]
    },
    {
      "cell_type": "code",
      "source": [
        "print(\"Değer: \",findMajority())"
      ],
      "metadata": {
        "colab": {
          "base_uri": "https://localhost:8080/"
        },
        "id": "8-G2gVq1Hf80",
        "outputId": "e2164d62-742e-404d-c2fe-6449950cae98"
      },
      "execution_count": 18,
      "outputs": [
        {
          "output_type": "stream",
          "name": "stdout",
          "text": [
            "Değer:  1\n"
          ]
        }
      ]
    },
    {
      "cell_type": "markdown",
      "source": [
        "Soruda majority count > n/2 dendiği için **Boyer Moore** kullanılabilir"
      ],
      "metadata": {
        "id": "jwW0YdKyOuwu"
      }
    },
    {
      "cell_type": "code",
      "source": [
        "def boyerMoore():\n",
        "  result = 0\n",
        "  count = 0 \n",
        "\n",
        "  for num in myList:\n",
        "    if count == 0:\n",
        "      result = num\n",
        "    count += (1 if num == result else -1)\n",
        "    \n",
        "  return result"
      ],
      "metadata": {
        "id": "FjGtEui0O3Us"
      },
      "execution_count": 34,
      "outputs": []
    },
    {
      "cell_type": "code",
      "source": [
        "boyerMoore()"
      ],
      "metadata": {
        "colab": {
          "base_uri": "https://localhost:8080/"
        },
        "id": "xKBKbnP_PncV",
        "outputId": "cf53a990-5860-4f13-b2cc-3b6f43a8c555"
      },
      "execution_count": 35,
      "outputs": [
        {
          "output_type": "execute_result",
          "data": {
            "text/plain": [
              "1"
            ]
          },
          "metadata": {},
          "execution_count": 35
        }
      ]
    },
    {
      "cell_type": "markdown",
      "source": [
        "3,1,1,3,3,1,1,1\n",
        "\n",
        "result 3->1->1->3->3->1->1->1\n",
        "\n",
        "count  1->0->1->0->1->0->1->2"
      ],
      "metadata": {
        "id": "WSsYyxkVP-Ga"
      }
    }
  ]
}