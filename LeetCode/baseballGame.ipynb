{
  "nbformat": 4,
  "nbformat_minor": 0,
  "metadata": {
    "colab": {
      "provenance": [],
      "collapsed_sections": []
    },
    "kernelspec": {
      "name": "python3",
      "display_name": "Python 3"
    },
    "language_info": {
      "name": "python"
    }
  },
  "cells": [
    {
      "cell_type": "code",
      "source": [
        "class Solution:\n",
        "    def dailyTemperatures(self, temperatures: List[int]) -> List[int]:\n",
        "       \n",
        "        result = [0] * len(temperatures)\n",
        "        myStack = [] # temp, ix\n",
        "        \n",
        "        for ix,temp in enumerate(temperatures):\n",
        "            while myStack and temp > myStack[-1][0]:\n",
        "                stackTemp, stackIndex = myStack.pop()\n",
        "                result[stackIndex] = (ix - stackIndex)\n",
        "            myStack.append([temp, ix])\n",
        "        return result\n",
        "\n",
        "        "
      ],
      "metadata": {
        "id": "WBihgBanY5yR"
      },
      "execution_count": 60,
      "outputs": []
    }
  ]
}