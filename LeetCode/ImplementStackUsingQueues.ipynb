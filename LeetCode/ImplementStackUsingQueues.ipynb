{
  "nbformat": 4,
  "nbformat_minor": 0,
  "metadata": {
    "colab": {
      "provenance": []
    },
    "kernelspec": {
      "name": "python3",
      "display_name": "Python 3"
    },
    "language_info": {
      "name": "python"
    }
  },
  "cells": [
    {
      "cell_type": "code",
      "source": [
        "class MyStack:\n",
        "\n",
        "    def __init__(self):\n",
        "        self.myQueue = deque()\n",
        "\n",
        "    def push(self, x: int) -> None:\n",
        "        self.myQueue.append(x)\n",
        "\n",
        "    def pop(self) -> int:\n",
        "        for i in range(len(self.myQueue)-1):\n",
        "            self.myQueue.append(self.myQueue.popleft())\n",
        "        return self.myQueue.popleft()\n",
        "\n",
        "    def top(self) -> int:\n",
        "        return self.myQueue[-1]\n",
        "\n",
        "    def empty(self) -> bool:\n",
        "        return len(self.myQueue) == 0\n",
        "\n",
        "# Your MyStack object will be instantiated and called as such:\n",
        "# obj = MyStack()\n",
        "# obj.push(x)\n",
        "# param_2 = obj.pop()\n",
        "# param_3 = obj.top()\n",
        "# param_4 = obj.empty()"
      ],
      "metadata": {
        "id": "ayZXcuaRDhdv"
      },
      "execution_count": 126,
      "outputs": []
    }
  ]
}