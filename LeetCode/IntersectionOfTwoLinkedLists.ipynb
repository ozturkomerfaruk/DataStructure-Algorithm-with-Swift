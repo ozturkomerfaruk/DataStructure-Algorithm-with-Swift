{
  "nbformat": 4,
  "nbformat_minor": 0,
  "metadata": {
    "colab": {
      "provenance": [],
      "collapsed_sections": []
    },
    "kernelspec": {
      "name": "python3",
      "display_name": "Python 3"
    },
    "language_info": {
      "name": "python"
    }
  },
  "cells": [
    {
      "cell_type": "code",
      "source": [
        "# Definition for singly-linked list.\n",
        "# class ListNode:\n",
        "#     def __init__(self, x):\n",
        "#         self.val = x\n",
        "#         self.next = None\n",
        "\n",
        "class Solution:\n",
        "    def getIntersectionNode(self, headA: ListNode, headB: ListNode) -> Optional[ListNode]:\n",
        "        \n",
        "        firstPointer = headA\n",
        "        secondPointer = headB\n",
        "        \n",
        "        while firstPointer != secondPointer:\n",
        "            firstPointer = firstPointer.next if firstPointer != None else headB\n",
        "            secondPointer = secondPointer.next if secondPointer != None else headA\n",
        "        \n",
        "        return firstPointer"
      ],
      "metadata": {
        "id": "Rgsq7-Ub-R6G"
      },
      "execution_count": null,
      "outputs": []
    },
    {
      "cell_type": "code",
      "source": [],
      "metadata": {
        "id": "doX4p8d91h9v"
      },
      "execution_count": null,
      "outputs": []
    }
  ]
}