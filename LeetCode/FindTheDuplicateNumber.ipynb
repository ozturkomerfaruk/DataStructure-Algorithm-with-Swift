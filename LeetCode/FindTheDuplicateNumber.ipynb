{
  "nbformat": 4,
  "nbformat_minor": 0,
  "metadata": {
    "colab": {
      "provenance": [],
      "collapsed_sections": []
    },
    "kernelspec": {
      "name": "python3",
      "display_name": "Python 3"
    },
    "language_info": {
      "name": "python"
    }
  },
  "cells": [
    {
      "cell_type": "code",
      "source": [
        "class Solution:\n",
        "    def findDuplicate(self, nums: List[int]) -> int:\n",
        "        for i in range(0, len(nums)):\n",
        "            for j in range(0, len(nums)):\n",
        "                if i == j:\n",
        "                    continue\n",
        "                if nums[i] == nums[j]:\n",
        "                    return nums[i]"
      ],
      "metadata": {
        "id": "doX4p8d91h9v"
      },
      "execution_count": 20,
      "outputs": []
    },
    {
      "cell_type": "markdown",
      "source": [
        "# Floyd Algoritması"
      ],
      "metadata": {
        "id": "YgLENEM_opeq"
      }
    },
    {
      "cell_type": "code",
      "source": [
        "class Solution:\n",
        "    def findDuplicate(self, nums: List[int]) -> int:\n",
        "        slowPointer = 0\n",
        "        fastPointer = 0\n",
        "        \n",
        "        while True:\n",
        "            slowPointer = nums[slowPointer]\n",
        "            fastPointer = nums[nums[fastPointer]]\n",
        "            #neden 2 kez nums, print et slow ve fasti\n",
        "            if slowPointer == fastPointer:\n",
        "                break\n",
        "                \n",
        "        secondSlowPointer = 0\n",
        "        \n",
        "        while True:\n",
        "            slowPointer = nums[slowPointer]\n",
        "            secondSlowPointer = nums[secondSlowPointer]\n",
        "            if slowPointer == secondSlowPointer:\n",
        "                return slowPointer\n",
        "    "
      ],
      "metadata": {
        "id": "HmctIy5eoo1X"
      },
      "execution_count": null,
      "outputs": []
    }
  ]
}