{
  "nbformat": 4,
  "nbformat_minor": 0,
  "metadata": {
    "colab": {
      "provenance": [],
      "collapsed_sections": []
    },
    "kernelspec": {
      "name": "python3",
      "display_name": "Python 3"
    },
    "language_info": {
      "name": "python"
    }
  },
  "cells": [
    {
      "cell_type": "code",
      "source": [
        "class Node():\n",
        "  def __init__(self, value):\n",
        "    self.value = value\n",
        "    self.nextNode = None"
      ],
      "metadata": {
        "id": "WBihgBanY5yR"
      },
      "execution_count": 65,
      "outputs": []
    },
    {
      "cell_type": "code",
      "source": [
        "firstNode = Node(10)\n",
        "secondNode = Node(20)\n",
        "thirdNode = Node(30)\n",
        "\n",
        "firstNode.nextNode = secondNode\n",
        "secondNode.nextNode = thirdNode\n",
        "\n",
        "print(firstNode.nextNode.nextNode.value)"
      ],
      "metadata": {
        "colab": {
          "base_uri": "https://localhost:8080/"
        },
        "id": "jT2g8xd7rcbt",
        "outputId": "05a73337-885e-451e-c4db-ede862acd3e7"
      },
      "execution_count": 67,
      "outputs": [
        {
          "output_type": "stream",
          "name": "stdout",
          "text": [
            "30\n"
          ]
        }
      ]
    },
    {
      "cell_type": "code",
      "source": [
        "class DoublyNode():\n",
        "  def __init__(self, value):\n",
        "    self.value = value\n",
        "    self.nextNode = None\n",
        "    self.previousNode = None"
      ],
      "metadata": {
        "id": "d5qsZBNEryer"
      },
      "execution_count": 68,
      "outputs": []
    },
    {
      "cell_type": "code",
      "source": [
        "x = DoublyNode(5)\n",
        "y = DoublyNode(10)\n",
        "z = DoublyNode(15)\n",
        "\n",
        "x.nextNode = y\n",
        "\n",
        "y.previousNode = x\n",
        "y.nextNode = z\n",
        "\n",
        "z.previousNode = y\n",
        "\n",
        "print(x.nextNode.nextNode.previousNode.previousNode.value)"
      ],
      "metadata": {
        "colab": {
          "base_uri": "https://localhost:8080/"
        },
        "id": "SDmSIUEhr7bl",
        "outputId": "f9abfb4d-21d4-45fe-eebb-ec9e56762591"
      },
      "execution_count": 69,
      "outputs": [
        {
          "output_type": "stream",
          "name": "stdout",
          "text": [
            "5\n"
          ]
        }
      ]
    }
  ]
}