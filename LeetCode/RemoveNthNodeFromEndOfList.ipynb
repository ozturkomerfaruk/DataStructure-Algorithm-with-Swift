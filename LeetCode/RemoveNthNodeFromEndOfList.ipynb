{
  "nbformat": 4,
  "nbformat_minor": 0,
  "metadata": {
    "colab": {
      "provenance": [],
      "collapsed_sections": []
    },
    "kernelspec": {
      "name": "python3",
      "display_name": "Python 3"
    },
    "language_info": {
      "name": "python"
    }
  },
  "cells": [
    {
      "cell_type": "code",
      "source": [
        "# Definition for singly-linked list.\n",
        "# class ListNode:\n",
        "#     def __init__(self, val=0, next=None):\n",
        "#         self.val = val\n",
        "#         self.next = next\n",
        "class Solution:\n",
        "    def removeNthFromEnd(self, head: Optional[ListNode], n: int) -> Optional[ListNode]:\n",
        "        \n",
        "        rightPointer, leftPointer = head, head\n",
        "        \n",
        "        while n > 0 and rightPointer:\n",
        "            rightPointer = rightPointer.next\n",
        "            n -= 1\n",
        "            \n",
        "        while rightPointer and rightPointer.next:\n",
        "            rightPointer = rightPointer.next\n",
        "            leftPointer = leftPointer.next\n",
        "        \n",
        "        if leftPointer == head and not rightPointer:\n",
        "            return head.next\n",
        "        \n",
        "        leftPointer.next = leftPointer.next.next\n",
        "        \n",
        "        return head"
      ],
      "metadata": {
        "id": "Rgsq7-Ub-R6G"
      },
      "execution_count": 6,
      "outputs": []
    },
    {
      "cell_type": "code",
      "source": [],
      "metadata": {
        "id": "doX4p8d91h9v"
      },
      "execution_count": 8,
      "outputs": []
    }
  ]
}