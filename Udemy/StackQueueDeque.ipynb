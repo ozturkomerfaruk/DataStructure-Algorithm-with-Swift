{
  "nbformat": 4,
  "nbformat_minor": 0,
  "metadata": {
    "colab": {
      "provenance": []
    },
    "kernelspec": {
      "name": "python3",
      "display_name": "Python 3"
    },
    "language_info": {
      "name": "python"
    }
  },
  "cells": [
    {
      "cell_type": "markdown",
      "source": [
        "    Stack\n",
        "\n",
        "        push(item)\n",
        "\n",
        "        pop\n",
        "\n",
        "        showLast\n",
        "\n",
        "        size\n",
        "\n",
        "        isEmpty"
      ],
      "metadata": {
        "id": "Wcx2RY4T6dmK"
      }
    },
    {
      "cell_type": "code",
      "source": [
        "class Stack():\n",
        "  def __init__(self):\n",
        "    self.elements = []\n",
        "\n",
        "  def isEmpty(self):\n",
        "    return self.elements == []\n",
        "  \n",
        "  def push(self, element):\n",
        "    self.elements.append(element)\n",
        "  \n",
        "  def pop(self):\n",
        "    self.elements.pop()\n",
        "\n",
        "  def showLast(self):\n",
        "    return self.elements[len(self.elements) - 1]\n",
        "\n",
        "  def size(self):\n",
        "    return len(self.elements)"
      ],
      "metadata": {
        "id": "ypan2R6Thp17"
      },
      "execution_count": 43,
      "outputs": []
    },
    {
      "cell_type": "code",
      "source": [
        "myStack = Stack()\n",
        "\n",
        "myStack.isEmpty()\n",
        "myStack.push(10)\n",
        "myStack.push(20)\n",
        "myStack.push(40)\n",
        "\n",
        "myStack.showLast()\n",
        "myStack.push(\"a\")\n",
        "myStack.showLast()"
      ],
      "metadata": {
        "colab": {
          "base_uri": "https://localhost:8080/",
          "height": 37
        },
        "id": "98qIx9RFjxDg",
        "outputId": "1760e3fb-01d4-48b5-af51-73cd7c169b28"
      },
      "execution_count": 83,
      "outputs": [
        {
          "output_type": "execute_result",
          "data": {
            "text/plain": [
              "'a'"
            ],
            "application/vnd.google.colaboratory.intrinsic+json": {
              "type": "string"
            }
          },
          "metadata": {},
          "execution_count": 83
        }
      ]
    },
    {
      "cell_type": "markdown",
      "source": [
        "    Queue\n",
        "        enqueue(element)\n",
        "        dequeue()\n",
        "        size()\n",
        "        isEmpty()"
      ],
      "metadata": {
        "id": "lF7-ararksDH"
      }
    },
    {
      "cell_type": "code",
      "source": [
        "class Queue():\n",
        "  def __init__(self):\n",
        "    self.elements = []\n",
        "\n",
        "  def isEmpty(self):\n",
        "    return self.elements == []\n",
        "\n",
        "  def enqueue(self, element):\n",
        "    self.elements.insert(0, element)\n",
        "   \n",
        "  \n",
        "  def dequeue(self):\n",
        "    self.elements.pop(0)\n",
        "\n",
        "  def showLast(self):\n",
        "    return self.elements[len(self.elements) - 1]\n",
        "\n",
        "  def size(self):\n",
        "    return len(self.elements)"
      ],
      "metadata": {
        "id": "QgeJIAYnkyKo"
      },
      "execution_count": 97,
      "outputs": []
    },
    {
      "cell_type": "code",
      "source": [
        "myQueue = Queue()\n",
        "\n",
        "myQueue.isEmpty()\n",
        "\n",
        "myQueue.enqueue(10)\n",
        "myQueue.enqueue(20)\n",
        "myQueue.enqueue(30)\n",
        "\n",
        "myQueue.dequeue()\n",
        "myQueue.dequeue()\n",
        "myQueue.isEmpty()\n",
        "myQueue.dequeue()\n",
        "myQueue.size()\n"
      ],
      "metadata": {
        "colab": {
          "base_uri": "https://localhost:8080/"
        },
        "id": "I7lqYv5AmKta",
        "outputId": "c2a39b6c-749d-49a5-c106-bdbf4bc773c8"
      },
      "execution_count": 98,
      "outputs": [
        {
          "output_type": "execute_result",
          "data": {
            "text/plain": [
              "0"
            ]
          },
          "metadata": {},
          "execution_count": 98
        }
      ]
    },
    {
      "cell_type": "markdown",
      "source": [
        "    Deque()\n",
        "      addRight()\n",
        "      addLeft()\n",
        "      removeRight()\n",
        "      removeLeft()\n",
        "      isEmpty()\n",
        "      size()"
      ],
      "metadata": {
        "id": "1rzvB6jUpE9W"
      }
    },
    {
      "cell_type": "code",
      "source": [
        "class Deque():\n",
        "  def __init__(self):\n",
        "    self.elements = []\n",
        "  \n",
        "  def addRight(self, element):\n",
        "    self.elements.append(element)\n",
        "  \n",
        "  def addLeft(self, element):\n",
        "    self.elements.insert(0, element)\n",
        "  \n",
        "  def removeRight(self):\n",
        "    self.elements.pop()\n",
        "  \n",
        "  def removeLeft(self):\n",
        "    self.elements.pop(0)\n",
        "  \n",
        "  def isEmpty(self):\n",
        "    return self.elements == []\n",
        "  \n",
        "  def size(self):\n",
        "    return len(self.elements)\n",
        "\n",
        "  def inside(self):\n",
        "    return self.elements\n"
      ],
      "metadata": {
        "id": "LcVi34GnpEEd"
      },
      "execution_count": 117,
      "outputs": []
    },
    {
      "cell_type": "code",
      "source": [
        "myDeque = Deque()\n",
        "\n",
        "myDeque.addRight(10)\n",
        "myDeque.addRight(20)\n",
        "myDeque.addRight(30)\n",
        "myDeque.addLeft(1)\n",
        "myDeque.removeRight()\n",
        "myDeque.removeLeft()"
      ],
      "metadata": {
        "id": "oijgr5QxqQa7"
      },
      "execution_count": 118,
      "outputs": []
    },
    {
      "cell_type": "code",
      "source": [
        "myDeque.inside()"
      ],
      "metadata": {
        "colab": {
          "base_uri": "https://localhost:8080/"
        },
        "id": "k_mQ6xyrqaxC",
        "outputId": "e6853f8c-ce02-4f64-edd5-24f05a01b55e"
      },
      "execution_count": 119,
      "outputs": [
        {
          "output_type": "execute_result",
          "data": {
            "text/plain": [
              "[10, 20]"
            ]
          },
          "metadata": {},
          "execution_count": 119
        }
      ]
    }
  ]
}